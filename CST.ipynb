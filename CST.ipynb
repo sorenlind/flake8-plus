{
 "cells": [
  {
   "cell_type": "code",
   "execution_count": 1,
   "metadata": {},
   "outputs": [
    {
     "name": "stdout",
     "output_type": "stream",
     "text": [
      "hep\n"
     ]
    }
   ],
   "source": [
    "print(\"hep\")"
   ]
  },
  {
   "cell_type": "code",
   "execution_count": 8,
   "metadata": {},
   "outputs": [],
   "source": [
    "# !pip install libcst"
   ]
  },
  {
   "cell_type": "code",
   "execution_count": 2,
   "metadata": {},
   "outputs": [],
   "source": [
    "import libcst as cst\n",
    "from libcst.tool import dump"
   ]
  },
  {
   "cell_type": "code",
   "execution_count": 3,
   "metadata": {},
   "outputs": [
    {
     "name": "stdout",
     "output_type": "stream",
     "text": [
      "BinaryOperation(\n",
      "  left=Integer(\n",
      "    value='1',\n",
      "  ),\n",
      "  operator=Add(),\n",
      "  right=Integer(\n",
      "    value='2',\n",
      "  ),\n",
      "  lpar=[\n",
      "    LeftParen(),\n",
      "  ],\n",
      "  rpar=[\n",
      "    RightParen(),\n",
      "  ],\n",
      ")\n"
     ]
    }
   ],
   "source": [
    "print(dump(cst.parse_expression(\"(1 + 2)\")))"
   ]
  },
  {
   "cell_type": "code",
   "execution_count": 4,
   "metadata": {},
   "outputs": [],
   "source": [
    "parsed_module = cst.parse_module('\"\"\"Hep.\"\"\"\\n\\n# My comment.')"
   ]
  },
  {
   "cell_type": "code",
   "execution_count": 5,
   "metadata": {},
   "outputs": [
    {
     "ename": "TypeError",
     "evalue": "Module.visit() missing 1 required positional argument: 'visitor'",
     "output_type": "error",
     "traceback": [
      "\u001b[0;31m---------------------------------------------------------------------------\u001b[0m",
      "\u001b[0;31mTypeError\u001b[0m                                 Traceback (most recent call last)",
      "Cell \u001b[0;32mIn [5], line 1\u001b[0m\n\u001b[0;32m----> 1\u001b[0m parsed_module\u001b[39m.\u001b[39;49mvisit()\n",
      "\u001b[0;31mTypeError\u001b[0m: Module.visit() missing 1 required positional argument: 'visitor'"
     ]
    }
   ],
   "source": [
    "parsed_module.visit()"
   ]
  },
  {
   "cell_type": "code",
   "execution_count": null,
   "metadata": {},
   "outputs": [],
   "source": []
  }
 ],
 "metadata": {
  "kernelspec": {
   "display_name": "flake8-plus",
   "language": "python",
   "name": "python3"
  },
  "language_info": {
   "codemirror_mode": {
    "name": "ipython",
    "version": 3
   },
   "file_extension": ".py",
   "mimetype": "text/x-python",
   "name": "python",
   "nbconvert_exporter": "python",
   "pygments_lexer": "ipython3",
   "version": "3.10.9"
  },
  "orig_nbformat": 4,
  "vscode": {
   "interpreter": {
    "hash": "9570ff8e316c26377ee9d49d82b45ae4cd43c3c66f3d399fc198c9049d9463ec"
   }
  }
 },
 "nbformat": 4,
 "nbformat_minor": 2
}
